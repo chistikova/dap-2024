{
  "cells": [
    {
      "cell_type": "markdown",
      "metadata": {
        "id": "qQvfD-M40xIt"
      },
      "source": [
        "# Лабораторная работа №3. NumPy"
      ]
    },
    {
      "cell_type": "markdown",
      "metadata": {
        "id": "jn2AZdQfDFpS"
      },
      "source": [
        "## Задание"
      ]
    },
    {
      "cell_type": "markdown",
      "metadata": {
        "id": "Q8FFEA2R08uS"
      },
      "source": [
        "Выполните следующие задания:\n",
        "\n",
        "1. Откройте в файл в Google Colab (используйте собственный форк репозитория).\n",
        "2. Решите задачи.\n",
        "3. Сохраните результат в ваш репозиторий github в директорию ./les03\n",
        "4. Создайте pull request в репозиторий https://github.com/chebotarevsa/dap-2024. Название pull request должно иметь формат \"<Номер лабораторной работы>  <Номер группы> <ФИО>\"\n",
        "5. Сдайте работу в системе \"Пегас\", в отчет укажите ссылку на pull request"
      ]
    },
    {
      "cell_type": "code",
      "execution_count": 1,
      "metadata": {
        "colab": {
          "base_uri": "https://localhost:8080/",
          "height": 35
        },
        "id": "3ftbuMN45IlN",
        "outputId": "4e5a074a-af22-4ee3-8c6a-3ff17c740ae7"
      },
      "outputs": [
        {
          "output_type": "execute_result",
          "data": {
            "text/plain": [
              "'2.0.2'"
            ],
            "application/vnd.google.colaboratory.intrinsic+json": {
              "type": "string"
            }
          },
          "metadata": {},
          "execution_count": 1
        }
      ],
      "source": [
        "import numpy as np\n",
        "np.version.version"
      ]
    },
    {
      "cell_type": "markdown",
      "metadata": {
        "id": "6iPL4gTu2ECp"
      },
      "source": [
        "1. Создать массив 10x10 со случайными значениями, найти минимум и максимум (низкая)"
      ]
    },
    {
      "cell_type": "code",
      "execution_count": 2,
      "metadata": {
        "id": "v-AutHvo2T-D",
        "outputId": "aa1564da-86e3-4a77-f7f6-52b8d3e6a8f5",
        "colab": {
          "base_uri": "https://localhost:8080/"
        }
      },
      "outputs": [
        {
          "output_type": "stream",
          "name": "stdout",
          "text": [
            "[[-421 -213 -191  -46  647  534 -819   35  146 -991]\n",
            " [  66  127  525  466 -129 -884  949 -556  697 -404]\n",
            " [ 338 -132 -775  -19 -259 -941  165  784 -892 -411]\n",
            " [-279 -450 -509 -430 -239  993 -386 -324  722   37]\n",
            " [ 808  -76  106  580 -952  280 -502 -903  234  635]\n",
            " [ 221   60  701 -176  766   46  537 -245 -843 -614]\n",
            " [  43 -783 -883  572 -891 -704 -890   33 -433 -892]\n",
            " [ 111 -712  775  271 -347 -460  495 -497  181  233]\n",
            " [ -82  312 -735 -385  584 -424  369 -173 -485  -15]\n",
            " [ 100  252 -101 -557  140 -993  149  602 -816  953]]\n",
            "\n",
            "Min - -993\n",
            "Max - 993\n"
          ]
        }
      ],
      "source": [
        "# Напишите ваш код здесь\n",
        "import numpy as np\n",
        "\n",
        "arr = np.random.randint(-1000, 1000, size=(10,10))\n",
        "\n",
        "print(arr)\n",
        "\n",
        "print(\"\\nMin - \" + str(np.min(arr)))\n",
        "print(\"Max - \" + str(np.max(arr)))"
      ]
    },
    {
      "cell_type": "markdown",
      "metadata": {
        "id": "cwxKoGik2Xfd"
      },
      "source": [
        "2. Создать 8x8 матрицу и заполнить её единицами и нулями в шахматном порядке"
      ]
    },
    {
      "cell_type": "code",
      "execution_count": 3,
      "metadata": {
        "id": "zACAjKWC2lBy",
        "outputId": "4d6daa2f-4c1f-4996-edbe-df79d85383e8",
        "colab": {
          "base_uri": "https://localhost:8080/"
        }
      },
      "outputs": [
        {
          "output_type": "stream",
          "name": "stdout",
          "text": [
            "[[0. 1. 0. 1. 0. 1. 0. 1.]\n",
            " [1. 0. 1. 0. 1. 0. 1. 0.]\n",
            " [0. 1. 0. 1. 0. 1. 0. 1.]\n",
            " [1. 0. 1. 0. 1. 0. 1. 0.]\n",
            " [0. 1. 0. 1. 0. 1. 0. 1.]\n",
            " [1. 0. 1. 0. 1. 0. 1. 0.]\n",
            " [0. 1. 0. 1. 0. 1. 0. 1.]\n",
            " [1. 0. 1. 0. 1. 0. 1. 0.]]\n"
          ]
        }
      ],
      "source": [
        "# Напишите ваш код здесь\n",
        "import numpy as np\n",
        "\n",
        "size = 8\n",
        "\n",
        "arr = np.zeros((size,size))\n",
        "\n",
        "for i in range(size):\n",
        "  for j in range(size):\n",
        "    if i % 2 != 0 and j % 2 != 0:\n",
        "      continue\n",
        "    if i % 2 != 0 or j % 2 != 0:\n",
        "      arr[i,j] = 1\n",
        "\n",
        "print(arr)"
      ]
    },
    {
      "cell_type": "markdown",
      "metadata": {
        "id": "YvNFm7Io2tSA"
      },
      "source": [
        "3. Дан массив из 11 элементов, поменять знак у элементов, значения которых между 3 и 8"
      ]
    },
    {
      "cell_type": "code",
      "execution_count": 4,
      "metadata": {
        "id": "cczoe3OY27fA",
        "outputId": "2ac209c6-ce2c-4c87-c86c-4d013c8791ee",
        "colab": {
          "base_uri": "https://localhost:8080/"
        }
      },
      "outputs": [
        {
          "output_type": "stream",
          "name": "stdout",
          "text": [
            "Исходный массив:[ 0  1  2  3  4  5  6  7  8  9 10]\n",
            "Итоговый массив:[ 0  1  2  3 -4 -5 -6 -7  8  9 10]\n"
          ]
        }
      ],
      "source": [
        "# Напишите ваш код здесь\n",
        "import numpy as np\n",
        "\n",
        "z = np.arange(11)\n",
        "\n",
        "print(\"Исходный массив:\" + str(z))\n",
        "\n",
        "for i in range(z.size):\n",
        "  if z[i] > 3 and z[i] < 8:\n",
        "    z[i] *= -1\n",
        "\n",
        "print(\"Итоговый массив:\" + str(z))"
      ]
    },
    {
      "cell_type": "markdown",
      "metadata": {
        "id": "tInYHRPf2-jQ"
      },
      "source": [
        "4. Найти среднее заначение строки матрицы и вычесть его из каждого елемента строки"
      ]
    },
    {
      "cell_type": "code",
      "execution_count": 5,
      "metadata": {
        "id": "Zbv_WG9w3km1",
        "outputId": "2386155d-899e-4a2a-bac0-0b2027eff739",
        "colab": {
          "base_uri": "https://localhost:8080/"
        }
      },
      "outputs": [
        {
          "output_type": "stream",
          "name": "stdout",
          "text": [
            "Исходный массив\n",
            "[[0.0111023  0.21555788 0.32934717 0.30089699 0.28206684 0.74350083\n",
            "  0.12702615 0.31893849 0.43164443 0.72622935]\n",
            " [0.62998273 0.92227176 0.13893122 0.2539381  0.929057   0.06395431\n",
            "  0.54666987 0.39963247 0.68471954 0.85562852]\n",
            " [0.70919801 0.32265796 0.88336665 0.57982098 0.11741156 0.14835377\n",
            "  0.95360759 0.73603931 0.20125727 0.17979991]\n",
            " [0.37478237 0.89632914 0.39440803 0.57731357 0.73489414 0.38552776\n",
            "  0.26699847 0.11634343 0.16452964 0.4259574 ]\n",
            " [0.29191524 0.748007   0.49693184 0.01411176 0.56636687 0.57226956\n",
            "  0.78867917 0.09086432 0.78533367 0.56332529]]\n",
            "\n",
            "Среднее арифметическое\n",
            "[[0.34863104]\n",
            " [0.54247855]\n",
            " [0.4831513 ]\n",
            " [0.43370839]\n",
            " [0.49178047]]\n",
            "\n",
            "Итоговый массив: \n",
            "[[-0.33752874 -0.13307317 -0.01928387 -0.04773406 -0.0665642   0.39486979\n",
            "  -0.22160489 -0.02969255  0.08301339  0.37759831]\n",
            " [ 0.08750418  0.37979321 -0.40354733 -0.28854045  0.38657845 -0.47852425\n",
            "   0.00419132 -0.14284608  0.14224099  0.31314997]\n",
            " [ 0.22604671 -0.16049334  0.40021535  0.09666967 -0.36573974 -0.33479753\n",
            "   0.47045629  0.25288801 -0.28189403 -0.30335139]\n",
            " [-0.05892602  0.46262075 -0.03930036  0.14360517  0.30118575 -0.04818064\n",
            "  -0.16670993 -0.31736497 -0.26917876 -0.007751  ]\n",
            " [-0.19986523  0.25622653  0.00515137 -0.47766871  0.0745864   0.08048908\n",
            "   0.2968987  -0.40091615  0.2935532   0.07154482]]\n"
          ]
        }
      ],
      "source": [
        "# Напишите ваш код здесь\n",
        "import numpy as np\n",
        "\n",
        "z = np.random.rand(5, 10)\n",
        "average = np.mean(z, axis=1, keepdims=True)\n",
        "\n",
        "print(\"Исходный массив\\n\" + str(z))\n",
        "print(\"\\nСреднее арифметическое\\n\" + str(average) + \"\\n\")\n",
        "\n",
        "print(\"Итоговый массив: \\n\" + str(np.subtract(z, average)))"
      ]
    },
    {
      "cell_type": "markdown",
      "metadata": {
        "id": "OStor4mW3lpJ"
      },
      "source": [
        "5. Поменяйте 1 и 2 строки матрицы"
      ]
    },
    {
      "cell_type": "code",
      "execution_count": 6,
      "metadata": {
        "id": "5vfeHqyF3qKd",
        "outputId": "a14e6ee2-646e-462a-be14-910581c74466",
        "colab": {
          "base_uri": "https://localhost:8080/"
        }
      },
      "outputs": [
        {
          "output_type": "stream",
          "name": "stdout",
          "text": [
            "Исходное:\n",
            "[[ 0  1  2  3  4]\n",
            " [ 5  6  7  8  9]\n",
            " [10 11 12 13 14]\n",
            " [15 16 17 18 19]\n",
            " [20 21 22 23 24]]\n",
            "\n",
            "Итог:\n",
            "[[ 5  6  7  8  9]\n",
            " [ 0  1  2  3  4]\n",
            " [10 11 12 13 14]\n",
            " [15 16 17 18 19]\n",
            " [20 21 22 23 24]]\n"
          ]
        }
      ],
      "source": [
        "# Напишите ваш код здесь\n",
        "import numpy as np\n",
        "\n",
        "z = np.arange(25).reshape(5,5)\n",
        "print(\"Исходное:\\n\" + str(z))\n",
        "\n",
        "tmp = z[0][:].copy()\n",
        "z[0][:] = z[1][:]\n",
        "z[1][:] = tmp\n",
        "\n",
        "print(\"\\nИтог:\\n\" + str(z))"
      ]
    },
    {
      "cell_type": "markdown",
      "metadata": {
        "id": "IPQ9xIIk3qml"
      },
      "source": [
        "6. Дан массив 10x2 подеставлющий собой точки в декартовой системе координат, преобразовать в полярную"
      ]
    },
    {
      "cell_type": "code",
      "execution_count": 7,
      "metadata": {
        "id": "zGHBaX8b30Uv",
        "outputId": "9dd0a7a0-d955-428a-86f9-f9921038fdc6",
        "colab": {
          "base_uri": "https://localhost:8080/"
        }
      },
      "outputs": [
        {
          "output_type": "stream",
          "name": "stdout",
          "text": [
            "Исходное:\n",
            " [[0.54743639 0.22269497]\n",
            " [0.70825753 0.15926623]\n",
            " [0.32860686 0.13084952]\n",
            " [0.69832238 0.21219618]\n",
            " [0.04221011 0.82486449]\n",
            " [0.29761585 0.47714891]\n",
            " [0.90544745 0.90453537]\n",
            " [0.50924124 0.48861474]\n",
            " [0.68475002 0.93295178]\n",
            " [0.67050752 0.51764994]]\n",
            "\n",
            "Результат (r, theta):\n",
            " [[0.59099886 0.3863513 ]\n",
            " [0.72594384 0.22119118]\n",
            " [0.35370053 0.37894914]\n",
            " [0.72985023 0.29499948]\n",
            " [0.82594378 1.51966875]\n",
            " [0.56235778 1.01310511]\n",
            " [1.27985129 0.78489424]\n",
            " [0.70574146 0.7647303 ]\n",
            " [1.15727335 0.93763959]\n",
            " [0.84707839 0.65745003]]\n"
          ]
        }
      ],
      "source": [
        "# Ваш код здесь\n",
        "import numpy as np\n",
        "import math\n",
        "\n",
        "z = np.random.random((10,2))\n",
        "res = z.copy()\n",
        "\n",
        "res[:, 0] = np.sqrt(np.square(z[:, 0]) + np.square(z[:, 1]))\n",
        "res[:, 1] = np.arctan2(z[:, 1], z[:, 0])\n",
        "\n",
        "print(\"Исходное:\\n\", z)\n",
        "print(\"\\nРезультат (r, theta):\\n\", res)\n",
        "\n",
        "# Ваш код здесь"
      ]
    },
    {
      "cell_type": "markdown",
      "metadata": {
        "id": "10gbuTgE4AOH"
      },
      "source": [
        "7. Заменить максимальный элемент массива на ноль"
      ]
    },
    {
      "cell_type": "code",
      "execution_count": 8,
      "metadata": {
        "id": "gqwuO2T_5Aqd",
        "outputId": "b6d3e481-6bf6-4f02-8fea-09595d4c4cd9",
        "colab": {
          "base_uri": "https://localhost:8080/"
        }
      },
      "outputs": [
        {
          "output_type": "stream",
          "name": "stdout",
          "text": [
            "Максимум: 0.933820007910392\n",
            "\n",
            "Исходное:\n",
            " [0.69381037 0.41600609 0.65328672 0.48600967 0.00476952 0.73965607\n",
            " 0.93382001 0.58229638 0.87154992 0.24388405]\n",
            "\n",
            "Результат:\n",
            " [0.69381037 0.41600609 0.65328672 0.48600967 0.00476952 0.73965607\n",
            " 0.         0.58229638 0.87154992 0.24388405]\n"
          ]
        }
      ],
      "source": [
        "# Ваш код здесь\n",
        "import numpy as np\n",
        "\n",
        "z = np.random.random(10)\n",
        "max = z.max()\n",
        "\n",
        "print(\"Максимум:\", max)\n",
        "print(\"\\nИсходное:\\n\", z)\n",
        "\n",
        "z[(np.where(z == max))] = 0\n",
        "\n",
        "print(\"\\nРезультат:\\n\", z)"
      ]
    },
    {
      "cell_type": "markdown",
      "metadata": {
        "id": "88m_eWXM6nZY"
      },
      "source": [
        "8. Дан массив, добавить 1 к каждому элементу с индексом, заданным в другом массиве. Добавление производиться только 1 раз"
      ]
    },
    {
      "cell_type": "code",
      "execution_count": 9,
      "metadata": {
        "id": "-5yj9k126pfh",
        "outputId": "e4de38a3-b2c3-4735-de3b-4bbfc62c6c29",
        "colab": {
          "base_uri": "https://localhost:8080/"
        }
      },
      "outputs": [
        {
          "output_type": "stream",
          "name": "stdout",
          "text": [
            "Первый массив:\n",
            " [1. 1. 1. 1. 1. 1. 1. 1. 1. 1.]\n",
            "\n",
            "Второй массив:\n",
            " [7 4 1 7 6 6 8 7 9 2 7 5 3 3 0 8 0 3 1 3]\n",
            "\n",
            "Результат:\n",
            " [2. 2. 2. 2. 2. 2. 2. 2. 2. 2.]\n"
          ]
        }
      ],
      "source": [
        "# Напишите ваш код здесь\n",
        "import numpy as np\n",
        "\n",
        "z = np.ones(10)\n",
        "i = np.random.randint(0,len(z),20)\n",
        "chk = \"\"\n",
        "\n",
        "print(\"Первый массив:\\n\", z)\n",
        "print(\"\\nВторой массив:\\n\", i)\n",
        "\n",
        "for char in i:\n",
        "  if str(char) in chk:\n",
        "    continue\n",
        "  else:\n",
        "    z[char] += 1\n",
        "    chk += str(char)\n",
        "\n",
        "print(\"\\nРезультат:\\n\", z)"
      ]
    },
    {
      "cell_type": "markdown",
      "metadata": {
        "id": "0HByAVK77JCG"
      },
      "source": [
        "9. Дан вектор [1, 2, 3, 4, 5], построить новый вектор с тремя нулями между каждым значением"
      ]
    },
    {
      "cell_type": "code",
      "execution_count": 10,
      "metadata": {
        "id": "2AiZt-J47dqq",
        "outputId": "d9b1d997-c8cd-420b-f51a-959304cab0a4",
        "colab": {
          "base_uri": "https://localhost:8080/"
        }
      },
      "outputs": [
        {
          "output_type": "stream",
          "name": "stdout",
          "text": [
            "Исходное:\n",
            " [1 2 3 4 5]\n",
            "\n",
            "Результат:\n",
            " [1, 0, 0, 0, 2, 0, 0, 0, 3, 0, 0, 0, 4, 0, 0, 0, 5]\n"
          ]
        }
      ],
      "source": [
        "# Напишите ваш код здесь\n",
        "import numpy as np\n",
        "\n",
        "z = np.array([1,2,3,4,5])\n",
        "result = []\n",
        "\n",
        "for i in range(z.size - 1):\n",
        "    result.append(int(z[i]))\n",
        "    result.append(0)\n",
        "    result.append(0)\n",
        "    result.append(0)\n",
        "\n",
        "result.append(int(z[z.size-1]))\n",
        "\n",
        "arr = np.array(result)\n",
        "print(\"Исходное:\\n\", z)\n",
        "print(\"\\nРезультат:\\n\", result)"
      ]
    },
    {
      "cell_type": "markdown",
      "metadata": {
        "id": "i0uK-dO08AKP"
      },
      "source": [
        "10. Найти ближайшее к заданному значению число в заданном массиве"
      ]
    },
    {
      "cell_type": "code",
      "execution_count": 11,
      "metadata": {
        "id": "sE0DlZO_-4Cb",
        "outputId": "d070aad9-e880-459c-9bf1-863245ef98f9",
        "colab": {
          "base_uri": "https://localhost:8080/"
        }
      },
      "outputs": [
        {
          "output_type": "stream",
          "name": "stdout",
          "text": [
            "Массив:\n",
            " [ 0  1  2  3  4  5  6  7  8  9 10 11 12 13 14 15 16 17 18 19 20 21 22 23\n",
            " 24 25 26 27 28 29 30 31 32 33 34 35 36 37 38 39 40 41 42 43 44 45 46 47\n",
            " 48 49 50 51 52 53 54 55 56 57 58 59 60 61 62 63 64 65 66 67 68 69 70 71\n",
            " 72 73 74 75 76 77 78 79 80 81 82 83 84 85 86 87 88 89 90 91 92 93 94 95\n",
            " 96 97 98 99]\n",
            "Исходное число:\n",
            " 15.050773517838934\n",
            "15\n"
          ]
        }
      ],
      "source": [
        "# Напишите ваш код здесь\n",
        "import numpy as np\n",
        "\n",
        "z = np.arange(100) # Число\n",
        "v = np.random.uniform(0,100) # Массив\n",
        "chk = v - int(v)\n",
        "\n",
        "print(\"Массив:\\n\", z)\n",
        "print(\"Исходное число:\\n\", v)\n",
        "\n",
        "print((z[int(v)], z[int(v) + 1])[chk > 0.5])"
      ]
    },
    {
      "cell_type": "markdown",
      "metadata": {
        "id": "0zUpsgh8uCfQ"
      },
      "source": [
        "## Вопросы\n",
        "\n",
        "\n"
      ]
    },
    {
      "cell_type": "markdown",
      "metadata": {
        "id": "RQEMkoq5vc3k"
      },
      "source": [
        "**1**. Какой тип (dtype) будут иметь элементы массива?\n",
        "``` python\n",
        "np.array([1, 4, 2, 5, 3])\n",
        "np.array([1., 4, 2, 5, 3])\n",
        "np.array([1, 4, 2, 5, 3], dtype='float128')\n",
        "np.array([1., 4, 2, 5, 3], dtype='complex128')\n",
        "np.array([1, 4, 2, 5, 3], dtype ='float64')\n",
        "np.array([1, 4, 2, 5, 3], dtype =int64)\n",
        "np.array([1, 4, 2, 5, 3], dtype='bool')\n",
        "np.array([1, 4, 2, 5, 3], dtype='str')\n",
        "np.array([1, 4, 2, 5, '3'])\n",
        "np.array([1, -4, 2, 0, 1j])\n",
        "```"
      ]
    },
    {
      "cell_type": "markdown",
      "metadata": {
        "id": "SlJfe4Bgvd16"
      },
      "source": [
        "**2**. Что будет выведено в консоль и почему?\n",
        "``` python\n",
        "np.array([1, 4, 2, 5, 3], dtype='str')[1] + '1'\n",
        "np.array([1, -4, 2, 0, 3], dtype='bool')[3] or np.array([1, -4, 2, 0, 3])[1]\n",
        "np.array([1, -4, 2, 0, 3], dtype='bool')[3] and np.array([1, -4, 2, 0, 3])[1]\n",
        "np.array([1, -4, 2, 0, True], dtype='int64')[-1]\n",
        "np.array([1, -4, 2, 0, 1j], dtype='int64')[1]\n",
        "np.array([1, -4, 2, 0, 1j], dtype='str')[-1]\n",
        "np.array([1, 4, 2, 5, '3'])[-1] * 3\n",
        "```"
      ]
    },
    {
      "cell_type": "markdown",
      "metadata": {
        "id": "X50PESx7xVAc"
      },
      "source": [
        "**3**. Каков результат операции?\n",
        "\n",
        "``` python\n",
        "np.ones((3, 5), dtype=float)\n",
        "np.full((3, 5), 3.14)\n",
        "np.linspace(0, 1, 5)\n",
        "np.diag((1,3,5))\n",
        "np.smile((1,3,5))\n",
        "np.random.random((3, 3))\n",
        "np.eye(3)\n",
        "np.empty(3)\n",
        "```\n",
        "\n"
      ]
    },
    {
      "cell_type": "markdown",
      "metadata": {
        "id": "D6Bt-8cfAWrA"
      },
      "source": [
        "**4**. Дан двумерный массив X, что будет выведено в консоль?\n",
        "\n",
        "``` python\n",
        "X = np.array([[3, 5, 2, 4],\n",
        "      [7, 6, 8, 8],\n",
        "      [1, 6, 7, 7]])\n",
        "```\n",
        "\n",
        "``` python\n",
        "X[0,0]\n",
        "X[-1,-1]\n",
        "X[0:1,-1]\n",
        "X[0:2,-1]\n",
        "X[0:2,0:2]\n",
        "X[1,1:3]\n",
        "X[1,:]\n",
        "X[1,:]\n",
        "X[:,:]\n",
        "X[:]\n",
        "X[::2,::2]\n",
        "X[0:3:2,0:3:2]\n",
        "X[::-1,::-1]\n",
        "```"
      ]
    },
    {
      "cell_type": "markdown",
      "metadata": {
        "id": "MzMYltXhDFpY"
      },
      "source": [
        "**5**. Дан двумерный массив grid, в чем различее между операциями?\n",
        "\n",
        "\n",
        "``` python\n",
        "grid = np.arange(16).reshape((4, 4))\n",
        "```\n",
        "\n",
        "``` python\n",
        "np.split(grid, [2])\n",
        "np.split(grid, [2], axis=1)\n",
        "```\n"
      ]
    },
    {
      "cell_type": "markdown",
      "metadata": {
        "id": "XXT3LrLMDFpY"
      },
      "source": [
        "**6**. В чем различие между операциями?\n",
        "\n",
        "``` python\n",
        "    [1, 2, 3] + [3, 2, 1]\n",
        "    np.array([1, 2, 3]) + np.array([3, 2, 1])\n",
        "```"
      ]
    },
    {
      "cell_type": "markdown",
      "metadata": {
        "id": "zqyBZpECDFpY"
      },
      "source": [
        "**7**. Как в CodeLab измерить время выполнения кода?"
      ]
    },
    {
      "cell_type": "markdown",
      "metadata": {
        "id": "xUDfTRK_DFpZ"
      },
      "source": [
        "**8**. Дан массив X, каковы результаты операций?\n",
        "\n",
        "```python\n",
        "X = np.array([[3, 5, 2, 4],\n",
        "      [7, 6, 8, 8],\n",
        "      [1, 6, 7, 7]])\n",
        "\n",
        "np.sum(M)\n",
        "np.sum(M, axis=1)\n",
        "np.sum(M, axis=0)\n",
        "np.sum(M, axis=2)\n",
        "np.sum(M, 1)\n",
        "sum(M)\n",
        "sum(M,1)\n",
        "```"
      ]
    },
    {
      "cell_type": "markdown",
      "metadata": {
        "id": "AEtQ3uIDDFpZ"
      },
      "source": [
        "**9**. Дан массив X, что будет выведено в консоль?\n",
        "\n",
        "```python\n",
        "X = np.array([1,2,3,4])\n",
        "\n",
        "X > 3\n",
        "X < 3\n",
        "X[X < 3]\n",
        "X[X > 3]\n",
        "X[X != 3]\n",
        "```"
      ]
    },
    {
      "cell_type": "markdown",
      "metadata": {
        "id": "WOFsS5szDFpZ"
      },
      "source": [
        "**10**.  В чем преимущество массивов NumPy по сравнению с обычными списками.  Чем обусловлено это преимущество?"
      ]
    }
  ],
  "metadata": {
    "colab": {
      "provenance": []
    },
    "kernelspec": {
      "display_name": "Python 3",
      "name": "python3"
    },
    "language_info": {
      "codemirror_mode": {
        "name": "ipython",
        "version": 3
      },
      "file_extension": ".py",
      "mimetype": "text/x-python",
      "name": "python",
      "nbconvert_exporter": "python",
      "pygments_lexer": "ipython3",
      "version": "3.12.2"
    }
  },
  "nbformat": 4,
  "nbformat_minor": 0
}