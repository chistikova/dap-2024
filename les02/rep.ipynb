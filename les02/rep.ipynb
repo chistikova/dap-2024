{
  "cells": [
    {
      "cell_type": "markdown",
      "metadata": {
        "id": "v7ZHB7UJAqhH"
      },
      "source": [
        "# Лабораторная работа №2. Основы Python"
      ]
    },
    {
      "cell_type": "markdown",
      "metadata": {
        "id": "DhM_ckFJAqhI"
      },
      "source": [
        "## Задание"
      ]
    },
    {
      "cell_type": "markdown",
      "metadata": {
        "id": "FQDo8BKbAqhJ"
      },
      "source": [
        "Выполните следующие задания:\n",
        "\n",
        "1. Откройте в файл в Google Colab (используйте собственный форк репозитория).\n",
        "2. Решите задачи.\n",
        "3. Сохраните результат в ваш репозиторий github в директорию ./les02\n",
        "4. Создайте pull request в репозиторий https://github.com/chebotarevsa/dap-2024. Название pull request должно иметь формат \"<Номер лабораторной работы>  <Номер группы> <ФИО>\"\n",
        "5. Сдайте работу в системе \"Пегас\", в отчет укажите ссылку на pull request"
      ]
    },
    {
      "cell_type": "markdown",
      "metadata": {
        "id": "NRoa08muAqhJ"
      },
      "source": [
        "Задача №1. https://leetcode.com/problems/two-sum/"
      ]
    },
    {
      "cell_type": "code",
      "execution_count": null,
      "metadata": {
        "id": "heomgGYVAqhK"
      },
      "outputs": [],
      "source": [
        "class Solution1(object):\n",
        "    def twoSum(self, nums, target):\n",
        "        \"\"\"\n",
        "        :type nums: List[int]\n",
        "        :type target: int\n",
        "        :rtype: List[int]\n",
        "        \"\"\"\n",
        "        # Ваше решение\n",
        "class Solution(object):\n",
        "    def twoSum(self, nums, target):\n",
        "        for i in range(len(nums)):\n",
        "            for j in range(i + 1, len(nums)):\n",
        "                if nums[j] == target - nums[i]:\n",
        "                    return [i, j]"
      ]
    },
    {
      "cell_type": "markdown",
      "metadata": {
        "id": "UtW1ueW_AqhL"
      },
      "source": [
        "Задача №2. https://leetcode.com/problems/palindrome-number/description/"
      ]
    },
    {
      "cell_type": "code",
      "execution_count": null,
      "metadata": {
        "id": "eRGPi9lWAqhL"
      },
      "outputs": [],
      "source": [
        "class Solution2(object):\n",
        "    def isPalindrome(self, x):\n",
        "        \"\"\"\n",
        "        :type x: int\n",
        "        :rtype: bool\n",
        "        \"\"\"\n",
        "\n",
        "        # Ваше решение\n",
        "class Solution(object):\n",
        "  def isPalindrome(self, x):\n",
        "    if x < 0:\n",
        "      return False\n",
        "    y=str(x)\n",
        "    rev = ''.join(reversed(y))\n",
        "    if rev == y:\n",
        "      return True\n",
        "    else:\n",
        "      return False\n",
        ""
      ]
    },
    {
      "cell_type": "markdown",
      "metadata": {
        "id": "KrJ2rMPeAqhL"
      },
      "source": [
        "Задача №3. https://leetcode.com/problems/roman-to-integer/description/"
      ]
    },
    {
      "cell_type": "code",
      "execution_count": null,
      "metadata": {
        "id": "equ04oE3AqhM"
      },
      "outputs": [],
      "source": [
        "class Solution3(object):\n",
        "    def romanToInt(self, s):\n",
        "        \"\"\"\n",
        "        :type s: str\n",
        "        :rtype: int\n",
        "        \"\"\"\n",
        "\n",
        "        # Ваше решение\n",
        "class Solution(object):\n",
        "    def romanToInt(self, s):\n",
        "        roman_map = {\n",
        "            'I': 1,\n",
        "            'V': 5,\n",
        "            'X': 10,\n",
        "            'L': 50,\n",
        "            'C': 100,\n",
        "            'D': 500,\n",
        "            'M': 1000\n",
        "        }\n",
        "        total = 0\n",
        "        for i in range(len(s) - 1):\n",
        "            if roman_map[s[i]] < roman_map[s[i+1]]:\n",
        "                total -= roman_map[s[i]]\n",
        "            else:\n",
        "                total += roman_map[s[i]]\n",
        "        total += roman_map[s[-1]]\n",
        "        return total"
      ]
    },
    {
      "cell_type": "markdown",
      "metadata": {
        "id": "aMesERRRAqhM"
      },
      "source": [
        "Задача №4. https://leetcode.com/problems/longest-common-prefix/description/"
      ]
    },
    {
      "cell_type": "code",
      "execution_count": null,
      "metadata": {
        "id": "dpqEbm6VAqhM"
      },
      "outputs": [],
      "source": [
        "class Solution4(object):\n",
        "    def longestCommonPrefix(self, strs):\n",
        "        \"\"\"\n",
        "        :type strs: List[str]\n",
        "        :rtype: str\n",
        "        \"\"\"\n",
        "        # Ваше решение\n",
        "class Solution(object):\n",
        "    def longestCommonPrefix(self, strs):\n",
        "        if not strs:\n",
        "            return \"\"\n",
        "\n",
        "        shortest = min(strs, key=len)\n",
        "\n",
        "        for i, char in enumerate(shortest):\n",
        "            for other in strs:\n",
        "                if other[i] != char:\n",
        "                    return shortest[:i]\n",
        "\n",
        "        return shortest"
      ]
    },
    {
      "cell_type": "markdown",
      "metadata": {
        "id": "9NzndGu_AqhM"
      },
      "source": [
        "Задача №5. https://leetcode.com/problems/merge-two-sorted-lists/description/"
      ]
    },
    {
      "cell_type": "code",
      "execution_count": null,
      "metadata": {
        "id": "Lc9FkIo5AqhM"
      },
      "outputs": [],
      "source": [
        "class Solution5(object):\n",
        "    def mergeTwoLists(self, list1, list2):\n",
        "        \"\"\"\n",
        "        :type list1: Optional[ListNode]\n",
        "        :type list2: Optional[ListNode]\n",
        "        :rtype: Optional[ListNode]\n",
        "        \"\"\"\n",
        "\n",
        "        # Ваше решение\n",
        "class Solution(object):\n",
        "    def mergeTwoLists(self, list1, list2):\n",
        "        a = []\n",
        "        while list1:\n",
        "            a.append(list1.val)\n",
        "            list1 = list1.next\n",
        "        while list2:\n",
        "            a.append(list2.val)\n",
        "            list2 = list2.next\n",
        "        a.sort()\n",
        "\n",
        "        dummy = ListNode()\n",
        "        curr = dummy\n",
        "        for x in a:\n",
        "            curr.next = ListNode(x)\n",
        "            curr = curr.next\n",
        "\n",
        "        return dummy.next"
      ]
    },
    {
      "cell_type": "markdown",
      "metadata": {
        "id": "oha1qmxXAqhN"
      },
      "source": [
        "Задача №6. https://leetcode.com/problems/longest-substring-without-repeating-characters/description/"
      ]
    },
    {
      "cell_type": "code",
      "execution_count": null,
      "metadata": {
        "id": "vfgZzHf7AqhN"
      },
      "outputs": [],
      "source": [
        "class Solution(object):\n",
        "    def lengthOfLongestSubstring(self, s):\n",
        "        \"\"\"\n",
        "        :type s: str\n",
        "        :rtype: int\n",
        "        \"\"\"\n",
        "\n",
        "        # Ваше решение\n",
        "class Solution(object):\n",
        "    def lengthOfLongestSubstring(self, s):\n",
        "        a = []\n",
        "        prev = \"\"\n",
        "\n",
        "        for i in s:\n",
        "            if i in prev:\n",
        "                prev = prev[prev.index(i)+1:]\n",
        "            prev += i\n",
        "            a.append(len(prev))\n",
        "\n",
        "        return max(a) if a else 0\n",
        ""
      ]
    },
    {
      "cell_type": "markdown",
      "metadata": {
        "id": "kAV-IWSNAqhN"
      },
      "source": [
        "## Вопросы\n",
        "\n",
        "1. Что такое динамическая типизация и чем она отличается от статической?\n",
        "2. Чем отличается цикл for в Python от цикла for в С++?\n",
        "3. Для чего предназначены операторы continue и break?\n",
        "4. Как определить функцию в python? Может ли функция возвращать несколько значений?\n",
        "5. Что такое лямбда функции и для чего они предназначены?\n",
        "6. Может ли тело функции содержать определение другой функции?\n",
        "7. Как определить класс в python? Для чего нужна переменная self?\n",
        "8. Как определить приватный метод? Можно ли вызвать приватный метод за пределами класса?\n",
        "9. Как определить статический метод класса? Для чего может понадобиться статический метод?\n",
        "10. Чем staticmethod отличается от classmethod?\n",
        "11. Как определить собственный класс исключений Python? Как выбросить и перехватить исключение?\n",
        "12. Что такое картеж, для чего он используется?\n"
      ]
    }
  ],
  "metadata": {
    "language_info": {
      "name": "python"
    },
    "colab": {
      "provenance": []
    }
  },
  "nbformat": 4,
  "nbformat_minor": 0
}