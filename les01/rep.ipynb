{
  "cells": [
    {
      "cell_type": "markdown",
      "metadata": {
        "id": "JstEt2q_9QMJ"
      },
      "source": [
        "# Лабораторная работа №1. Подготовка среды для анализа данных"
      ]
    },
    {
      "cell_type": "markdown",
      "metadata": {
        "id": "5rh6OCdy9QML"
      },
      "source": [
        "## Задание"
      ]
    },
    {
      "cell_type": "markdown",
      "metadata": {
        "id": "NA8g37Jb9QML"
      },
      "source": [
        "\n",
        "1. Создайте учетную запись в сервисе GitHub\n",
        "2. Выполните форк репозитория https://github.com/chebotarevsa/dap-2024\n",
        "3. Создайте учетную запись в [Google Colab](https://colab.research.google.com)\n",
        "4. Настройте интеграцию Google Colab и GitHub\n",
        "5. Создайте в Google Colab отчет о выполненой работе в виде файла rep.ipynb. Используйте Markdown разметку (заголовки, списки, форматированный текст, ссылки)\n",
        "6. Сохраните отчет в ваш репозиторий github в директории ./les01\n",
        "7. Создайте pull request в репозиторий https://github.com/chebotarevsa/dap-2024. Название pull request должно иметь формат \"<Номер лабораторной работы>  <Номер группы> <ФИО>\"\n",
        "8. Сдайте работу в системе \"Пегас\", в отчет укажите ссылку на pull request\n"
      ]
    },
    {
      "cell_type": "markdown",
      "source": [
        "# Отчёт по Лабораторной работе №1  \n",
        "## Подготовка среды для анализа данных  \n",
        "\n",
        "### Задание  \n",
        "В рамках лабораторной работы было выполнено:  \n",
        "\n",
        "1. Создали учетную запись в сервисе **GitHub**;  \n",
        "2. Выполнили форк репозитория: [https://github.com/Nikita-Puzyrev/dap-2024](https://github.com/chebotarevsa/dap-2024);  \n",
        "3. Создали учетную запись в **Google Colab**;  \n",
        "4. Настроили интеграцию *Google Colab* и *GitHub*;  \n",
        "5. Создали в Google Colab отчет о выполненной работе в виде файла `rep.ipynb`.  \n",
        "   - Использовали **Markdown** разметку;  \n",
        "   - Добавили заголовки, списки, ссылки, выделение текста;  \n",
        "6. Сохранили отчет в свой репозиторий GitHub в директории `./les01`;  \n",
        "7. Создали *pull request* в репозиторий: [https://github.com/Nikita-Puzyrev/dap-2024](https://github.com/chebotarevsa/dap-2024);  \n",
        "   - Название pull request имеет формат:  \n",
        "     ```\n",
        "     <Номер лабораторной работы> <Номер группы> <ФИО>\n",
        "     ```  \n",
        "8. Сдали работу в системе *Пегас*, в отчете указали ссылку на pull request.  \n",
        "---"
      ],
      "metadata": {
        "id": "eq0jgpGc-StN"
      }
    },
    {
      "cell_type": "markdown",
      "metadata": {
        "id": "LRZ7nn3D9QMM"
      },
      "source": [
        "## Вопросы"
      ]
    },
    {
      "cell_type": "markdown",
      "metadata": {
        "id": "HmHutbVk9QMM"
      },
      "source": [
        "\n",
        "1. Типы ячеек в Jupyter Notebook.\n",
        "2. Как с помощью Markdown сформировать иерархический список?\n",
        "3. Как с помощью Markdown оформить цитату?\n",
        "4. Как в текстовую ячейку вставить отформатированный блок кода?\n",
        "5. Сколько уровней заголовка существует в  Markdown?\n",
        "6. Шаги процесса анализа данных, рассказать подробно про один из шагов (на выбор преподавателя).\n",
        "7. Типы данных, рассказать подробно про один из типов данных (на выбор преподавателя).\n",
        "8. Что такое Jupyter Notebook, для чего используется?\n",
        "9. Почему python популярен для анализа данных?\n",
        "10. Обязательно ли использовать Jupyter Notebook для анализа данных?"
      ]
    }
  ],
  "metadata": {
    "language_info": {
      "name": "python"
    },
    "colab": {
      "provenance": []
    }
  },
  "nbformat": 4,
  "nbformat_minor": 0
}